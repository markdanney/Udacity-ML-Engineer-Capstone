{
 "cells": [
  {
   "cell_type": "markdown",
   "metadata": {},
   "source": [
    "# Machine Learning Engineer Capstone Project\n",
    "## Starbucks Challenge\n",
    "### by Mark-Danney Oonk\n",
    "\n",
    "---\n",
    "\n",
    "This notebook describes:\n",
    "- The training and refinement of the model\n",
    "- Justification of the model against the benchmark\n",
    "- Discussion of outcomes and possible improvements\n",
    "\n",
    "Running the code in this notebook results in:\n",
    "- model/???.??? with the trained neural network that is able to make offer recommendations based on profile data"
   ]
  },
  {
   "cell_type": "code",
   "execution_count": 1,
   "metadata": {},
   "outputs": [],
   "source": [
    "# imports\n",
    "\n",
    "import joblib\n",
    "import numpy as np\n",
    "import pandas as pd\n",
    "from sklearn.preprocessing import MinMaxScaler\n",
    "from scipy import stats"
   ]
  },
  {
   "cell_type": "code",
   "execution_count": 2,
   "metadata": {},
   "outputs": [],
   "source": [
    "scaler = joblib.load('./model/scaler.gz')"
   ]
  }
 ],
 "metadata": {
  "interpreter": {
   "hash": "131edd912abb57fcc97dda251a955431cf32bb5b0a3ccfb9d3091acf30034b87"
  },
  "kernelspec": {
   "display_name": "Python 3.9.5 ('base')",
   "language": "python",
   "name": "python3"
  },
  "language_info": {
   "codemirror_mode": {
    "name": "ipython",
    "version": 3
   },
   "file_extension": ".py",
   "mimetype": "text/x-python",
   "name": "python",
   "nbconvert_exporter": "python",
   "pygments_lexer": "ipython3",
   "version": "3.9.5"
  },
  "orig_nbformat": 4
 },
 "nbformat": 4,
 "nbformat_minor": 2
}
